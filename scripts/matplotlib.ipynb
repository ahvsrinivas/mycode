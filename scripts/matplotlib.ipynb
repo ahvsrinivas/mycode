{
 "cells": [
  {
   "cell_type": "code",
   "execution_count": 2,
   "id": "3b838de7-390a-4a91-a976-cede51893a61",
   "metadata": {},
   "outputs": [],
   "source": [
    "import numpy as np\n",
    "import matplotlib\n",
    "import matplotlib.pyplot as plt\n",
    "matplotlib.use('Agg') \n",
    "grades = np.random.normal(75, 10, 100)\n",
    "plt.hist(grades,\n",
    "           bins=np.arange(0, 101, 10),  \n",
    "           linewidth=0.5,               \n",
    "           edgecolor=\"white\")\n",
    "\n",
    "\n",
    "plt.title(\"Test Grades Distribution for 100 Students\")\n",
    "plt.xticks(np.arange(0,101,10))\n",
    "plt.xlabel(\"Test Score\")\n",
    "plt.ylabel(\"Number of Students\")\n",
    "plt.show()"
   ]
  },
  {
   "cell_type": "code",
   "execution_count": null,
   "id": "37dc478a-10d7-41eb-862f-3beed6f71c0b",
   "metadata": {},
   "outputs": [],
   "source": []
  }
 ],
 "metadata": {
  "kernelspec": {
   "display_name": "Python 3 (ipykernel)",
   "language": "python",
   "name": "python3"
  },
  "language_info": {
   "codemirror_mode": {
    "name": "ipython",
    "version": 3
   },
   "file_extension": ".py",
   "mimetype": "text/x-python",
   "name": "python",
   "nbconvert_exporter": "python",
   "pygments_lexer": "ipython3",
   "version": "3.10.6"
  }
 },
 "nbformat": 4,
 "nbformat_minor": 5
}
