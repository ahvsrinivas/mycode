{
 "cells": [
  {
   "cell_type": "markdown",
   "id": "eae6dc84-abf1-4a35-b835-9e2801baae85",
   "metadata": {},
   "source": [
    "def text2paragraphs(filename, min_size=1):\n",
    "    \"\"\" A text contained in the file 'filename' will be read \n",
    "    and chopped into paragraphs.\n",
    "    Paragraphs with a string length less than min_size will be ignored.\n",
    "    A list of paragraph strings will be returned\"\"\"\n",
    "    filename= '/home/student/mycode/main/books/night_and_day_virginia_woolf.txt'\n",
    "    min_size= 15-\n",
    "    txt = open(filename).read()\n",
    "    paragraphs = [para for para in txt.split(\"\\n\\n\") if len(para) > min_size]\n",
    "             \n",
    "            for paragraph in txt.split(\"\\n\\n\"):\n",
    "                if len(paragraph) > min_size:\n",
    "                    # if paragraph char count > 150 then keep\n",
    "                    paragraphs.append(paragraph)\n",
    "                \n",
    "    return paragraphs\n"
   ]
  },
  {
   "cell_type": "code",
   "execution_count": null,
   "id": "94d1c321-c943-44ff-a7bd-cc2e2fcdbbda",
   "metadata": {},
   "outputs": [],
   "source": []
  }
 ],
 "metadata": {
  "kernelspec": {
   "display_name": "Python 3 (ipykernel)",
   "language": "python",
   "name": "python3"
  },
  "language_info": {
   "codemirror_mode": {
    "name": "ipython",
    "version": 3
   },
   "file_extension": ".py",
   "mimetype": "text/x-python",
   "name": "python",
   "nbconvert_exporter": "python",
   "pygments_lexer": "ipython3",
   "version": "3.10.6"
  }
 },
 "nbformat": 4,
 "nbformat_minor": 5
}
