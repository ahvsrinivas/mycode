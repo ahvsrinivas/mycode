{
 "cells": [
  {
   "cell_type": "code",
   "execution_count": null,
   "id": "8313980a-0418-45a8-acaa-aaec5d0a1bc9",
   "metadata": {},
   "outputs": [],
   "source": [
    "import pandas as pd"
   ]
  },
  {
   "cell_type": "code",
   "execution_count": null,
   "id": "47d20e74-2e5a-4fde-8976-03a2c2153568",
   "metadata": {},
   "outputs": [],
   "source": [
    "# create a dataframe ciscocsv\n",
    "ciscocsv = pd.read_csv(\"pandas_df/ciscodata.csv\")\n",
    "# create a dataframe ciscojson\n",
    "ciscojson = pd.read_json(\"pandas_df/ciscodata2.json\")\n",
    "\n",
    "# The line below concats and reapplies the index value\n",
    "ciscodf = pd.concat([ciscocsv, ciscojson], ignore_index=True, sort=False)\n",
    "\n",
    "## export to json\n",
    "## do not include index number\n",
    "ciscodf.to_json(\"combined_ciscodata.json\", orient=\"records\")\n",
    "\n",
    "## export to csv\n",
    "## do not include index number\n",
    "ciscodf.to_csv(\"combined_ciscodata.csv\", index=False)\n",
    "\n",
    "## export to Excel\n",
    "## do not include index number to xls\n",
    "ciscodf.to_excel(\"combined_ciscodata.xls\", index=False)\n",
    "## do not include index number to xlsx\n",
    "ciscodf.to_excel(\"combined_ciscodata.xlsx\", index=False)\n",
    "\n",
    "## create a python dictionary\n",
    "## do not include index number\n",
    "x = ciscodf.to_dict(orient='records')\n",
    "x\n"
   ]
  },
  {
   "cell_type": "code",
   "execution_count": 7,
   "id": "971681a8-b08f-412a-9ce3-894073f60a3e",
   "metadata": {},
   "outputs": [],
   "source": [
    "import pandas\n",
    "\n",
    "df = pandas.read_json(\"pandas_df/5movies.json\")\n",
    "df.to_csv(\"5movies-translated-from-json.csv\")\n",
    "\n",
    "df1 = pandas.read_csv(\"pandas_df/5movies.csv\")\n",
    "df1.to_excel(\"5movies-translated-from-json.xlsx\")\n",
    "\n",
    "df2 = pandas.read_json(\"pandas_df/5movies.json\")\n",
    "df2.to_excel(\"5movies-translated-from-jsonjs.xlsx\")"
   ]
  },
  {
   "cell_type": "code",
   "execution_count": null,
   "id": "ae75934b-3c98-41b9-9b8a-02c352fdcdd1",
   "metadata": {},
   "outputs": [],
   "source": [
    "eighties = movies.sorted_values([\"year\",\"IMDB Score\"], ascdending=False)\n",
    "top84= eighties[\"IMDB Score\"].loc[ (eighties[\"Year\"] >= 1980) & (eighties[\"Year\"] <= 1989)]\n"
   ]
  }
 ],
 "metadata": {
  "kernelspec": {
   "display_name": "Python 3 (ipykernel)",
   "language": "python",
   "name": "python3"
  },
  "language_info": {
   "codemirror_mode": {
    "name": "ipython",
    "version": 3
   },
   "file_extension": ".py",
   "mimetype": "text/x-python",
   "name": "python",
   "nbconvert_exporter": "python",
   "pygments_lexer": "ipython3",
   "version": "3.10.6"
  }
 },
 "nbformat": 4,
 "nbformat_minor": 5
}
